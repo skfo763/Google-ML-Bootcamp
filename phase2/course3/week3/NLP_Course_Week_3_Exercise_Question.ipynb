{
  "nbformat": 4,
  "nbformat_minor": 0,
  "metadata": {
    "accelerator": "GPU",
    "colab": {
      "name": "NLP Course - Week 3 Exercise Question.ipynb",
      "provenance": [],
      "toc_visible": true,
      "include_colab_link": true
    },
    "kernelspec": {
      "display_name": "Python 3",
      "name": "python3"
    }
  },
  "cells": [
    {
      "cell_type": "markdown",
      "metadata": {
        "id": "view-in-github",
        "colab_type": "text"
      },
      "source": [
        "<a href=\"https://colab.research.google.com/github/skfo763/Google-ML-Bootcamp/blob/main/phase2/course3/week3/NLP_Course_Week_3_Exercise_Question.ipynb\" target=\"_parent\"><img src=\"https://colab.research.google.com/assets/colab-badge.svg\" alt=\"Open In Colab\"/></a>"
      ]
    },
    {
      "cell_type": "code",
      "metadata": {
        "id": "zX4Kg8DUTKWO"
      },
      "source": [
        "#@title Licensed under the Apache License, Version 2.0 (the \"License\");\n",
        "# you may not use this file except in compliance with the License.\n",
        "# You may obtain a copy of the License at\n",
        "#\n",
        "# https://www.apache.org/licenses/LICENSE-2.0\n",
        "#\n",
        "# Unless required by applicable law or agreed to in writing, software\n",
        "# distributed under the License is distributed on an \"AS IS\" BASIS,\n",
        "# WITHOUT WARRANTIES OR CONDITIONS OF ANY KIND, either express or implied.\n",
        "# See the License for the specific language governing permissions and\n",
        "# limitations under the License."
      ],
      "execution_count": 2,
      "outputs": []
    },
    {
      "cell_type": "code",
      "metadata": {
        "id": "hmA6EzkQJ5jt"
      },
      "source": [
        "import json\n",
        "import tensorflow as tf\n",
        "import csv\n",
        "import random\n",
        "import numpy as np\n",
        "\n",
        "from tensorflow.keras.preprocessing.text import Tokenizer\n",
        "from tensorflow.keras.preprocessing.sequence import pad_sequences\n",
        "from tensorflow.keras.utils import to_categorical\n",
        "from tensorflow.keras import regularizers\n",
        "\n",
        "\n",
        "embedding_dim = 100\n",
        "max_length = 16\n",
        "trunc_type='post'\n",
        "padding_type='post'\n",
        "oov_tok = \"<OOV>\"\n",
        "training_size=160000\n",
        "test_portion=.1\n",
        "\n",
        "corpus = []\n"
      ],
      "execution_count": 3,
      "outputs": []
    },
    {
      "cell_type": "code",
      "metadata": {
        "colab": {
          "base_uri": "https://localhost:8080/"
        },
        "id": "bM0l_dORKqE0",
        "outputId": "1e77f90d-54db-4387-a97d-d096380af4e9"
      },
      "source": [
        "# Note that I cleaned the Stanford dataset to remove LATIN1 encoding to make it easier for Python CSV reader\n",
        "# You can do that yourself with:\n",
        "# iconv -f LATIN1 -t UTF8 training.1600000.processed.noemoticon.csv -o training_cleaned.csv\n",
        "# I then hosted it on my site to make it easier to use in this notebook\n",
        "\n",
        "!wget --no-check-certificate \\\n",
        "    https://storage.googleapis.com/laurencemoroney-blog.appspot.com/training_cleaned.csv \\\n",
        "    -O /tmp/training_cleaned.csv\n",
        "\n",
        "num_sentences = 0\n",
        "\n",
        "with open(\"/tmp/training_cleaned.csv\") as csvfile:\n",
        "    reader = csv.reader(csvfile, delimiter=',')\n",
        "    for row in reader:\n",
        "        list_item=[]\n",
        "        list_item.append(row[5])\n",
        "        this_label=row[0]\n",
        "        if this_label=='0':\n",
        "            list_item.append(0)\n",
        "        else:\n",
        "            list_item.append(1)\n",
        "        num_sentences = num_sentences + 1\n",
        "        corpus.append(list_item)"
      ],
      "execution_count": 4,
      "outputs": [
        {
          "output_type": "stream",
          "text": [
            "--2021-01-02 10:54:10--  https://storage.googleapis.com/laurencemoroney-blog.appspot.com/training_cleaned.csv\n",
            "Resolving storage.googleapis.com (storage.googleapis.com)... 74.125.142.128, 74.125.20.128, 74.125.195.128, ...\n",
            "Connecting to storage.googleapis.com (storage.googleapis.com)|74.125.142.128|:443... connected.\n",
            "HTTP request sent, awaiting response... 200 OK\n",
            "Length: 238942690 (228M) [application/octet-stream]\n",
            "Saving to: ‘/tmp/training_cleaned.csv’\n",
            "\n",
            "/tmp/training_clean 100%[===================>] 227.87M   184MB/s    in 1.2s    \n",
            "\n",
            "2021-01-02 10:54:11 (184 MB/s) - ‘/tmp/training_cleaned.csv’ saved [238942690/238942690]\n",
            "\n"
          ],
          "name": "stdout"
        }
      ]
    },
    {
      "cell_type": "code",
      "metadata": {
        "colab": {
          "base_uri": "https://localhost:8080/"
        },
        "id": "3kxblBUjEUX-",
        "outputId": "7e439203-4818-4fdc-fda9-4b564e8edb51"
      },
      "source": [
        "print(num_sentences)\n",
        "print(len(corpus))\n",
        "print(corpus[1])\n",
        "\n",
        "# Expected Output:\n",
        "# 1600000\n",
        "# 1600000\n",
        "# [\"is upset that he can't update his Facebook by texting it... and might cry as a result  School today also. Blah!\", 0]"
      ],
      "execution_count": 5,
      "outputs": [
        {
          "output_type": "stream",
          "text": [
            "1600000\n",
            "1600000\n",
            "[\"is upset that he can't update his Facebook by texting it... and might cry as a result  School today also. Blah!\", 0]\n"
          ],
          "name": "stdout"
        }
      ]
    },
    {
      "cell_type": "code",
      "metadata": {
        "id": "ohOGz24lsNAD"
      },
      "source": [
        "sentences=[]\n",
        "labels=[]\n",
        "random.shuffle(corpus)\n",
        "for x in range(training_size):\n",
        "    sentences.append(corpus[x][0])\n",
        "    labels.append(corpus[x][1])\n",
        "\n",
        "\n",
        "tokenizer = Tokenizer()\n",
        "tokenizer.fit_on_texts(sentences)\n",
        "\n",
        "word_index = tokenizer.word_index\n",
        "vocab_size=len(word_index)\n",
        "\n",
        "sequences = tokenizer.texts_to_sequences(sentences)\n",
        "padded = pad_sequences(sequences, maxlen=max_length, padding=padding_type, truncating=trunc_type)\n",
        "\n",
        "split = int(test_portion * training_size)\n",
        "\n",
        "test_sequences = padded[:split]\n",
        "training_sequences = padded[split:training_size]\n",
        "test_labels = labels[:split]\n",
        "training_labels = labels[split:training_size]"
      ],
      "execution_count": 11,
      "outputs": []
    },
    {
      "cell_type": "code",
      "metadata": {
        "colab": {
          "base_uri": "https://localhost:8080/"
        },
        "id": "gIrtRem1En3N",
        "outputId": "9f784b1e-5a71-47d3-97f8-24958045a978"
      },
      "source": [
        "print(vocab_size)\n",
        "print(word_index['i'])\n",
        "# Expected Output\n",
        "# 138858\n",
        "# 1"
      ],
      "execution_count": 12,
      "outputs": [
        {
          "output_type": "stream",
          "text": [
            "138547\n",
            "1\n"
          ],
          "name": "stdout"
        }
      ]
    },
    {
      "cell_type": "code",
      "metadata": {
        "colab": {
          "base_uri": "https://localhost:8080/"
        },
        "id": "C1zdgJkusRh0",
        "outputId": "3c0a8f1c-de13-4928-b58f-fcfafeab6c62"
      },
      "source": [
        "# Note this is the 100 dimension version of GloVe from Stanford\n",
        "# I unzipped and hosted it on my site to make this notebook easier\n",
        "!wget --no-check-certificate \\\n",
        "    https://storage.googleapis.com/laurencemoroney-blog.appspot.com/glove.6B.100d.txt \\\n",
        "    -O /tmp/glove.6B.100d.txt\n",
        "embeddings_index = {};\n",
        "with open('/tmp/glove.6B.100d.txt') as f:\n",
        "    for line in f:\n",
        "        values = line.split();\n",
        "        word = values[0];\n",
        "        coefs = np.asarray(values[1:], dtype='float32');\n",
        "        embeddings_index[word] = coefs;\n",
        "\n",
        "embeddings_matrix = np.zeros((vocab_size+1, embedding_dim));\n",
        "for word, i in word_index.items():\n",
        "    embedding_vector = embeddings_index.get(word);\n",
        "    if embedding_vector is not None:\n",
        "        embeddings_matrix[i] = embedding_vector;"
      ],
      "execution_count": 13,
      "outputs": [
        {
          "output_type": "stream",
          "text": [
            "--2021-01-02 10:58:52--  https://storage.googleapis.com/laurencemoroney-blog.appspot.com/glove.6B.100d.txt\n",
            "Resolving storage.googleapis.com (storage.googleapis.com)... 74.125.20.128, 108.177.98.128, 74.125.195.128, ...\n",
            "Connecting to storage.googleapis.com (storage.googleapis.com)|74.125.20.128|:443... connected.\n",
            "HTTP request sent, awaiting response... 200 OK\n",
            "Length: 347116733 (331M) [text/plain]\n",
            "Saving to: ‘/tmp/glove.6B.100d.txt’\n",
            "\n",
            "/tmp/glove.6B.100d. 100%[===================>] 331.04M   187MB/s    in 1.8s    \n",
            "\n",
            "2021-01-02 10:58:54 (187 MB/s) - ‘/tmp/glove.6B.100d.txt’ saved [347116733/347116733]\n",
            "\n"
          ],
          "name": "stdout"
        }
      ]
    },
    {
      "cell_type": "code",
      "metadata": {
        "colab": {
          "base_uri": "https://localhost:8080/"
        },
        "id": "71NLk_lpFLNt",
        "outputId": "7261da85-0b79-40d2-b82c-6b924cd0824e"
      },
      "source": [
        "print(len(embeddings_matrix))\n",
        "# Expected Output\n",
        "# 138859"
      ],
      "execution_count": 14,
      "outputs": [
        {
          "output_type": "stream",
          "text": [
            "138548\n"
          ],
          "name": "stdout"
        }
      ]
    },
    {
      "cell_type": "code",
      "metadata": {
        "id": "iKKvbuEBOGFz",
        "colab": {
          "base_uri": "https://localhost:8080/"
        },
        "outputId": "2f65b4ca-bf74-49d6-89be-81f332949c52"
      },
      "source": [
        "model = tf.keras.Sequential([\n",
        "    tf.keras.layers.Embedding(vocab_size+1, embedding_dim, input_length=max_length, weights=[embeddings_matrix], trainable=False),\n",
        "    tf.keras.layers.Dropout(0.2),\n",
        "    tf.keras.layers.Conv1D(64, 5, activation='relu'),\n",
        "    tf.keras.layers.MaxPooling1D(pool_size=4),\n",
        "    tf.keras.layers.LSTM(64),\n",
        "    tf.keras.layers.Dense(1, activation='sigmoid')\n",
        "])\n",
        "\n",
        "model.compile(\n",
        "    loss='binary_crossentropy',\n",
        "    optimizer='adam',\n",
        "    metrics=['accuracy']\n",
        ")\n",
        "\n",
        "model.summary()"
      ],
      "execution_count": 15,
      "outputs": [
        {
          "output_type": "stream",
          "text": [
            "Model: \"sequential\"\n",
            "_________________________________________________________________\n",
            "Layer (type)                 Output Shape              Param #   \n",
            "=================================================================\n",
            "embedding (Embedding)        (None, 16, 100)           13854800  \n",
            "_________________________________________________________________\n",
            "dropout (Dropout)            (None, 16, 100)           0         \n",
            "_________________________________________________________________\n",
            "conv1d (Conv1D)              (None, 12, 64)            32064     \n",
            "_________________________________________________________________\n",
            "max_pooling1d (MaxPooling1D) (None, 3, 64)             0         \n",
            "_________________________________________________________________\n",
            "lstm (LSTM)                  (None, 64)                33024     \n",
            "_________________________________________________________________\n",
            "dense (Dense)                (None, 1)                 65        \n",
            "=================================================================\n",
            "Total params: 13,919,953\n",
            "Trainable params: 65,153\n",
            "Non-trainable params: 13,854,800\n",
            "_________________________________________________________________\n"
          ],
          "name": "stdout"
        }
      ]
    },
    {
      "cell_type": "code",
      "metadata": {
        "colab": {
          "base_uri": "https://localhost:8080/"
        },
        "id": "MFFan5AmwJlG",
        "outputId": "09fa36b9-f636-4c54-9769-3c8cab799915"
      },
      "source": [
        "num_epochs = 50\n",
        "training_padded = np.array(training_sequences)\n",
        "training_labels = np.array(training_labels)\n",
        "testing_padded = np.array(test_sequences)\n",
        "testing_labels = np.array(test_labels)\n",
        "\n",
        "history = model.fit(training_padded, training_labels, epochs=num_epochs, validation_data=(testing_padded, testing_labels), verbose=2)\n",
        "\n",
        "print(\"Training Complete\")"
      ],
      "execution_count": 19,
      "outputs": [
        {
          "output_type": "stream",
          "text": [
            "Epoch 1/50\n",
            "4500/4500 - 15s - loss: 0.5286 - accuracy: 0.7295 - val_loss: 0.5137 - val_accuracy: 0.7437\n",
            "Epoch 2/50\n",
            "4500/4500 - 14s - loss: 0.5132 - accuracy: 0.7417 - val_loss: 0.5043 - val_accuracy: 0.7496\n",
            "Epoch 3/50\n",
            "4500/4500 - 14s - loss: 0.5025 - accuracy: 0.7491 - val_loss: 0.5031 - val_accuracy: 0.7511\n",
            "Epoch 4/50\n",
            "4500/4500 - 14s - loss: 0.4940 - accuracy: 0.7551 - val_loss: 0.5026 - val_accuracy: 0.7516\n",
            "Epoch 5/50\n",
            "4500/4500 - 15s - loss: 0.4857 - accuracy: 0.7611 - val_loss: 0.5062 - val_accuracy: 0.7504\n",
            "Epoch 6/50\n",
            "4500/4500 - 14s - loss: 0.4810 - accuracy: 0.7628 - val_loss: 0.4978 - val_accuracy: 0.7531\n",
            "Epoch 7/50\n",
            "4500/4500 - 14s - loss: 0.4756 - accuracy: 0.7678 - val_loss: 0.5019 - val_accuracy: 0.7528\n",
            "Epoch 8/50\n",
            "4500/4500 - 14s - loss: 0.4712 - accuracy: 0.7712 - val_loss: 0.4979 - val_accuracy: 0.7510\n",
            "Epoch 9/50\n",
            "4500/4500 - 14s - loss: 0.4676 - accuracy: 0.7728 - val_loss: 0.5027 - val_accuracy: 0.7563\n",
            "Epoch 10/50\n",
            "4500/4500 - 14s - loss: 0.4649 - accuracy: 0.7733 - val_loss: 0.5013 - val_accuracy: 0.7489\n",
            "Epoch 11/50\n",
            "4500/4500 - 14s - loss: 0.4625 - accuracy: 0.7757 - val_loss: 0.5064 - val_accuracy: 0.7484\n",
            "Epoch 12/50\n",
            "4500/4500 - 14s - loss: 0.4596 - accuracy: 0.7768 - val_loss: 0.5112 - val_accuracy: 0.7448\n",
            "Epoch 13/50\n",
            "4500/4500 - 14s - loss: 0.4560 - accuracy: 0.7789 - val_loss: 0.5004 - val_accuracy: 0.7587\n",
            "Epoch 14/50\n",
            "4500/4500 - 14s - loss: 0.4536 - accuracy: 0.7810 - val_loss: 0.5011 - val_accuracy: 0.7574\n",
            "Epoch 15/50\n",
            "4500/4500 - 14s - loss: 0.4524 - accuracy: 0.7820 - val_loss: 0.5018 - val_accuracy: 0.7536\n",
            "Epoch 16/50\n",
            "4500/4500 - 14s - loss: 0.4507 - accuracy: 0.7824 - val_loss: 0.4999 - val_accuracy: 0.7549\n",
            "Epoch 17/50\n",
            "4500/4500 - 14s - loss: 0.4498 - accuracy: 0.7830 - val_loss: 0.5060 - val_accuracy: 0.7567\n",
            "Epoch 18/50\n",
            "4500/4500 - 14s - loss: 0.4469 - accuracy: 0.7838 - val_loss: 0.5031 - val_accuracy: 0.7571\n",
            "Epoch 19/50\n",
            "4500/4500 - 14s - loss: 0.4457 - accuracy: 0.7860 - val_loss: 0.5041 - val_accuracy: 0.7581\n",
            "Epoch 20/50\n",
            "4500/4500 - 14s - loss: 0.4441 - accuracy: 0.7860 - val_loss: 0.5076 - val_accuracy: 0.7554\n",
            "Epoch 21/50\n",
            "4500/4500 - 14s - loss: 0.4427 - accuracy: 0.7864 - val_loss: 0.5072 - val_accuracy: 0.7577\n",
            "Epoch 22/50\n",
            "4500/4500 - 14s - loss: 0.4418 - accuracy: 0.7876 - val_loss: 0.5048 - val_accuracy: 0.7541\n",
            "Epoch 23/50\n",
            "4500/4500 - 14s - loss: 0.4414 - accuracy: 0.7881 - val_loss: 0.5066 - val_accuracy: 0.7521\n",
            "Epoch 24/50\n",
            "4500/4500 - 14s - loss: 0.4398 - accuracy: 0.7889 - val_loss: 0.5107 - val_accuracy: 0.7521\n",
            "Epoch 25/50\n",
            "4500/4500 - 14s - loss: 0.4395 - accuracy: 0.7890 - val_loss: 0.5091 - val_accuracy: 0.7539\n",
            "Epoch 26/50\n",
            "4500/4500 - 14s - loss: 0.4396 - accuracy: 0.7888 - val_loss: 0.5094 - val_accuracy: 0.7527\n",
            "Epoch 27/50\n",
            "4500/4500 - 15s - loss: 0.4385 - accuracy: 0.7887 - val_loss: 0.5132 - val_accuracy: 0.7564\n",
            "Epoch 28/50\n",
            "4500/4500 - 14s - loss: 0.4375 - accuracy: 0.7907 - val_loss: 0.5101 - val_accuracy: 0.7514\n",
            "Epoch 29/50\n",
            "4500/4500 - 14s - loss: 0.4349 - accuracy: 0.7920 - val_loss: 0.5127 - val_accuracy: 0.7548\n",
            "Epoch 30/50\n",
            "4500/4500 - 14s - loss: 0.4365 - accuracy: 0.7919 - val_loss: 0.5140 - val_accuracy: 0.7552\n",
            "Epoch 31/50\n",
            "4500/4500 - 14s - loss: 0.4341 - accuracy: 0.7923 - val_loss: 0.5118 - val_accuracy: 0.7538\n",
            "Epoch 32/50\n",
            "4500/4500 - 14s - loss: 0.4337 - accuracy: 0.7919 - val_loss: 0.5130 - val_accuracy: 0.7552\n",
            "Epoch 33/50\n",
            "4500/4500 - 14s - loss: 0.4336 - accuracy: 0.7921 - val_loss: 0.5139 - val_accuracy: 0.7517\n",
            "Epoch 34/50\n",
            "4500/4500 - 14s - loss: 0.4353 - accuracy: 0.7920 - val_loss: 0.5070 - val_accuracy: 0.7545\n",
            "Epoch 35/50\n",
            "4500/4500 - 14s - loss: 0.4327 - accuracy: 0.7933 - val_loss: 0.5143 - val_accuracy: 0.7564\n",
            "Epoch 36/50\n",
            "4500/4500 - 14s - loss: 0.4326 - accuracy: 0.7936 - val_loss: 0.5090 - val_accuracy: 0.7552\n",
            "Epoch 37/50\n",
            "4500/4500 - 14s - loss: 0.4323 - accuracy: 0.7943 - val_loss: 0.5168 - val_accuracy: 0.7562\n",
            "Epoch 38/50\n",
            "4500/4500 - 14s - loss: 0.4317 - accuracy: 0.7935 - val_loss: 0.5070 - val_accuracy: 0.7547\n",
            "Epoch 39/50\n",
            "4500/4500 - 14s - loss: 0.4314 - accuracy: 0.7940 - val_loss: 0.5124 - val_accuracy: 0.7540\n",
            "Epoch 40/50\n",
            "4500/4500 - 14s - loss: 0.4321 - accuracy: 0.7943 - val_loss: 0.5170 - val_accuracy: 0.7533\n",
            "Epoch 41/50\n",
            "4500/4500 - 14s - loss: 0.4295 - accuracy: 0.7949 - val_loss: 0.5182 - val_accuracy: 0.7535\n",
            "Epoch 42/50\n",
            "4500/4500 - 14s - loss: 0.4314 - accuracy: 0.7949 - val_loss: 0.5134 - val_accuracy: 0.7534\n",
            "Epoch 43/50\n",
            "4500/4500 - 14s - loss: 0.4309 - accuracy: 0.7952 - val_loss: 0.5131 - val_accuracy: 0.7531\n",
            "Epoch 44/50\n",
            "4500/4500 - 14s - loss: 0.4301 - accuracy: 0.7955 - val_loss: 0.5134 - val_accuracy: 0.7526\n",
            "Epoch 45/50\n",
            "4500/4500 - 14s - loss: 0.4307 - accuracy: 0.7945 - val_loss: 0.5248 - val_accuracy: 0.7504\n",
            "Epoch 46/50\n",
            "4500/4500 - 14s - loss: 0.4304 - accuracy: 0.7946 - val_loss: 0.5126 - val_accuracy: 0.7526\n",
            "Epoch 47/50\n",
            "4500/4500 - 14s - loss: 0.4303 - accuracy: 0.7947 - val_loss: 0.5156 - val_accuracy: 0.7507\n",
            "Epoch 48/50\n",
            "4500/4500 - 14s - loss: 0.4278 - accuracy: 0.7976 - val_loss: 0.5173 - val_accuracy: 0.7527\n",
            "Epoch 49/50\n",
            "4500/4500 - 14s - loss: 0.4292 - accuracy: 0.7964 - val_loss: 0.5110 - val_accuracy: 0.7539\n",
            "Epoch 50/50\n",
            "4500/4500 - 14s - loss: 0.4283 - accuracy: 0.7952 - val_loss: 0.5202 - val_accuracy: 0.7502\n",
            "Training Complete\n"
          ],
          "name": "stdout"
        }
      ]
    },
    {
      "cell_type": "code",
      "metadata": {
        "id": "qxju4ItJKO8F",
        "colab": {
          "base_uri": "https://localhost:8080/",
          "height": 605
        },
        "outputId": "6f9a057d-5396-4aaa-bb69-bf00425cc3df"
      },
      "source": [
        "import matplotlib.image  as mpimg\n",
        "import matplotlib.pyplot as plt\n",
        "\n",
        "#-----------------------------------------------------------\n",
        "# Retrieve a list of list results on training and test data\n",
        "# sets for each training epoch\n",
        "#-----------------------------------------------------------\n",
        "acc=history.history['accuracy']\n",
        "val_acc=history.history['val_accuracy']\n",
        "loss=history.history['loss']\n",
        "val_loss=history.history['val_loss']\n",
        "\n",
        "epochs=range(len(acc)) # Get number of epochs\n",
        "\n",
        "#------------------------------------------------\n",
        "# Plot training and validation accuracy per epoch\n",
        "#------------------------------------------------\n",
        "plt.plot(epochs, acc, 'r')\n",
        "plt.plot(epochs, val_acc, 'b')\n",
        "plt.title('Training and validation accuracy')\n",
        "plt.xlabel(\"Epochs\")\n",
        "plt.ylabel(\"Accuracy\")\n",
        "plt.legend([\"Accuracy\", \"Validation Accuracy\"])\n",
        "\n",
        "plt.figure()\n",
        "\n",
        "#------------------------------------------------\n",
        "# Plot training and validation loss per epoch\n",
        "#------------------------------------------------\n",
        "plt.plot(epochs, loss, 'r')\n",
        "plt.plot(epochs, val_loss, 'b')\n",
        "plt.title('Training and validation loss')\n",
        "plt.xlabel(\"Epochs\")\n",
        "plt.ylabel(\"Loss\")\n",
        "plt.legend([\"Loss\", \"Validation Loss\"])\n",
        "\n",
        "plt.figure()\n",
        "\n",
        "\n",
        "# Expected Output\n",
        "# A chart where the validation loss does not increase sharply!"
      ],
      "execution_count": 20,
      "outputs": [
        {
          "output_type": "execute_result",
          "data": {
            "text/plain": [
              "<Figure size 432x288 with 0 Axes>"
            ]
          },
          "metadata": {
            "tags": []
          },
          "execution_count": 20
        },
        {
          "output_type": "display_data",
          "data": {
            "image/png": "[encoded data removed]",
            "text/plain": [
              "<Figure size 432x288 with 1 Axes>"
            ]
          },
          "metadata": {
            "tags": [],
            "needs_background": "light"
          }
        },
        {
          "output_type": "display_data",
          "data": {
            "image/png": "[encoded data removed]",
            "text/plain": [
              "<Figure size 432x288 with 1 Axes>"
            ]
          },
          "metadata": {
            "tags": [],
            "needs_background": "light"
          }
        },
        {
          "output_type": "display_data",
          "data": {
            "text/plain": [
              "<Figure size 432x288 with 0 Axes>"
            ]
          },
          "metadata": {
            "tags": []
          }
        }
      ]
    },
    {
      "cell_type": "code",
      "metadata": {
        "id": "hDQNR47LzeqL"
      },
      "source": [
        ""
      ],
      "execution_count": null,
      "outputs": []
    }
  ]
}